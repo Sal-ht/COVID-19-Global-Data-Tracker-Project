{
 "cells": [
  {
   "cell_type": "markdown",
   "id": "0470168b",
   "metadata": {},
   "source": [
    "# 🌍 COVID-19 Global Data Tracker Project\n",
    "\n",
    "Track and visualize COVID-19 global data using Python, Pandas, and Plotly."
   ]
  },
  {
   "cell_type": "code",
   "execution_count": null,
   "id": "4995efce",
   "metadata": {},
   "outputs": [],
   "source": [
    "import pandas as pd\n",
    "import matplotlib.pyplot as plt\n",
    "import plotly.express as px\n",
    "import seaborn as sns\n",
    "import warnings\n",
    "\n",
    "warnings.filterwarnings('ignore')\n",
    "sns.set(style='whitegrid')"
   ]
  },
  {
   "cell_type": "markdown",
   "id": "dc777269",
   "metadata": {},
   "source": [
    "## 📥 Load COVID-19 Dataset"
   ]
  },
  {
   "cell_type": "code",
   "execution_count": null,
   "id": "1ea926af",
   "metadata": {},
   "outputs": [],
   "source": [
    "# Load COVID-19 data from Our World in Data (OWID) or local CSV\n",
    "url = \"https://covid.ourworldindata.org/data/owid-covid-data.csv\"\n",
    "df = pd.read_csv(url)\n",
    "\n",
    "# Show basic structure\n",
    "df.shape, df.columns.to_list()[:10]"
   ]
  },
  {
   "cell_type": "markdown",
   "id": "d8ebd9c0",
   "metadata": {},
   "source": [
    "## 🧹 Clean & Explore the Dataset"
   ]
  },
  {
   "cell_type": "code",
   "execution_count": null,
   "id": "f18463dc",
   "metadata": {},
   "outputs": [],
   "source": [
    "# Drop entries with no location or date\n",
    "df = df.dropna(subset=['location', 'date'])\n",
    "\n",
    "# Convert date to datetime format\n",
    "df['date'] = pd.to_datetime(df['date'])\n",
    "\n",
    "# Preview key columns\n",
    "df[['location', 'date', 'total_cases', 'total_deaths', 'new_cases', 'new_deaths']].head()"
   ]
  },
  {
   "cell_type": "markdown",
   "id": "7722056b",
   "metadata": {},
   "source": [
    "## 🌐 Global Summary Statistics"
   ]
  },
  {
   "cell_type": "code",
   "execution_count": null,
   "id": "7de3dd36",
   "metadata": {},
   "outputs": [],
   "source": [
    "# Global cumulative stats\n",
    "global_stats = df[df['location'] == 'World'].sort_values('date')\n",
    "global_stats[['date', 'total_cases', 'total_deaths']].tail()"
   ]
  },
  {
   "cell_type": "markdown",
   "id": "9006b409",
   "metadata": {},
   "source": [
    "## 📈 Global Total Cases Over Time"
   ]
  },
  {
   "cell_type": "code",
   "execution_count": null,
   "id": "aa108cae",
   "metadata": {},
   "outputs": [],
   "source": [
    "fig = px.line(global_stats, x='date', y='total_cases', title='🌍 Global COVID-19 Total Cases Over Time')\n",
    "fig.show()"
   ]
  },
  {
   "cell_type": "markdown",
   "id": "96610c3a",
   "metadata": {},
   "source": [
    "## 🇺🇸 Country-Specific Tracker"
   ]
  },
  {
   "cell_type": "code",
   "execution_count": null,
   "id": "ac151e8d",
   "metadata": {},
   "outputs": [],
   "source": [
    "# Example: United States\n",
    "country = 'United States'\n",
    "country_data = df[df['location'] == country]\n",
    "\n",
    "fig = px.line(country_data, x='date', y='total_cases',\n",
    "              title=f'{country} - Total COVID-19 Cases Over Time')\n",
    "fig.show()"
   ]
  },
  {
   "cell_type": "markdown",
   "id": "113b3bd8",
   "metadata": {},
   "source": [
    "## 🏆 Top 10 Countries by Total Cases (Latest Date)"
   ]
  },
  {
   "cell_type": "code",
   "execution_count": null,
   "id": "8f00dfea",
   "metadata": {},
   "outputs": [],
   "source": [
    "latest_date = df['date'].max()\n",
    "latest_data = df[df['date'] == latest_date]\n",
    "top10 = latest_data.sort_values('total_cases', ascending=False).head(10)\n",
    "\n",
    "fig = px.bar(top10, x='location', y='total_cases', title='Top 10 Countries by Total Cases')\n",
    "fig.show()"
   ]
  }
 ],
 "metadata": {},
 "nbformat": 4,
 "nbformat_minor": 5
}
